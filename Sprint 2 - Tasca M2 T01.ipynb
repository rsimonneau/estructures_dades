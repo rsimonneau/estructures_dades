{
 "cells": [
  {
   "cell_type": "markdown",
   "id": "68e27039",
   "metadata": {},
   "source": [
    "Exercici 1"
   ]
  },
  {
   "cell_type": "code",
   "execution_count": 1,
   "id": "c06a31d1",
   "metadata": {},
   "outputs": [
    {
     "name": "stdout",
     "output_type": "stream",
     "text": [
      "[['1T', 'gener', 'febrer', 'març'], ['2T', 'abril', 'maig', 'juny'], ['3T', 'juliol', 'agost', 'setembre'], ['4T', 'octubre', 'novembre', 'desembre']]\n"
     ]
    }
   ],
   "source": [
    "Trimestre_1 = [\"1T\", \"gener\", \"febrer\", \"març\"]\n",
    "Trimestre_2 = [\"2T\", \"abril\", \"maig\", \"juny\"]\n",
    "Trimestre_3 = [\"3T\", \"juliol\", \"agost\", \"setembre\"]\n",
    "Trimestre_4 = [\"4T\", \"octubre\", \"novembre\", \"desembre\"]\n",
    "\n",
    "mesos_any = [Trimestre_1, Trimestre_2, Trimestre_3, Trimestre_4]\n",
    "print(mesos_any)"
   ]
  },
  {
   "cell_type": "markdown",
   "id": "10283bb4",
   "metadata": {},
   "source": [
    "Exercici 2"
   ]
  },
  {
   "cell_type": "code",
   "execution_count": 2,
   "id": "cd284350",
   "metadata": {},
   "outputs": [
    {
     "name": "stdout",
     "output_type": "stream",
     "text": [
      "febrer\n"
     ]
    }
   ],
   "source": [
    "# segon mes del primer trimestre\n",
    "\n",
    "print(mesos_any[0][2]) "
   ]
  },
  {
   "cell_type": "code",
   "execution_count": 5,
   "id": "dbf2eac5",
   "metadata": {},
   "outputs": [
    {
     "name": "stdout",
     "output_type": "stream",
     "text": [
      "['gener', 'febrer', 'març']\n"
     ]
    }
   ],
   "source": [
    "# mesos del primer trimestre\n",
    "\n",
    "print(mesos_any[0][1:]) "
   ]
  },
  {
   "cell_type": "code",
   "execution_count": 4,
   "id": "7a07e341",
   "metadata": {},
   "outputs": [
    {
     "name": "stdout",
     "output_type": "stream",
     "text": [
      "setembre octubre\n"
     ]
    }
   ],
   "source": [
    "# setembre i octubre\n",
    "\n",
    "print(mesos_any[2][3], mesos_any[3][1]) "
   ]
  },
  {
   "cell_type": "markdown",
   "id": "3fe8edcf",
   "metadata": {},
   "source": [
    "Exercici 3"
   ]
  },
  {
   "cell_type": "code",
   "execution_count": 6,
   "id": "1ac9960b",
   "metadata": {},
   "outputs": [
    {
     "name": "stdout",
     "output_type": "stream",
     "text": [
      "[8, 7, 10, 7, 8, 1, 10, 5, 1, 6, 3, 4, 5, 2, 10, 7, 3, 5, 2, 6]\n"
     ]
    }
   ],
   "source": [
    "import random\n",
    "\n",
    "llista = [random.randint(1,10) for x in range(20)]\n",
    "print (llista)"
   ]
  },
  {
   "cell_type": "code",
   "execution_count": 7,
   "id": "a877862d",
   "metadata": {},
   "outputs": [
    {
     "name": "stdout",
     "output_type": "stream",
     "text": [
      "20\n"
     ]
    }
   ],
   "source": [
    "# Quants números hi ha?\n",
    "\n",
    "print(len(llista))"
   ]
  },
  {
   "cell_type": "code",
   "execution_count": 8,
   "id": "021d91b9",
   "metadata": {},
   "outputs": [
    {
     "name": "stdout",
     "output_type": "stream",
     "text": [
      "2\n"
     ]
    }
   ],
   "source": [
    "# Quantes vegades apareix el número 3\n",
    "\n",
    "print(llista.count(3))"
   ]
  },
  {
   "cell_type": "code",
   "execution_count": 9,
   "id": "b50b06f8",
   "metadata": {},
   "outputs": [
    {
     "name": "stdout",
     "output_type": "stream",
     "text": [
      "2 1\n"
     ]
    }
   ],
   "source": [
    "# Quantes vegades apareixen els nombres 3 i 4\n",
    "\n",
    "print(llista.count(3), llista.count(4))"
   ]
  },
  {
   "cell_type": "code",
   "execution_count": 10,
   "id": "b4388a75",
   "metadata": {},
   "outputs": [
    {
     "name": "stdout",
     "output_type": "stream",
     "text": [
      "10\n"
     ]
    }
   ],
   "source": [
    "# Quin és el número més gran?\n",
    "\n",
    "print(max(llista))"
   ]
  },
  {
   "cell_type": "code",
   "execution_count": 11,
   "id": "d926a1ad",
   "metadata": {},
   "outputs": [
    {
     "name": "stdout",
     "output_type": "stream",
     "text": [
      "[1, 1, 2]\n"
     ]
    }
   ],
   "source": [
    "# Quins són els 3 números més petits?\n",
    "\n",
    "import heapq\n",
    "print(heapq.nsmallest(3, llista))\n",
    "   \n",
    "\n"
   ]
  },
  {
   "cell_type": "code",
   "execution_count": 12,
   "id": "85e454cc",
   "metadata": {},
   "outputs": [
    {
     "name": "stdout",
     "output_type": "stream",
     "text": [
      "9\n"
     ]
    }
   ],
   "source": [
    "# Quin és el rang d’aquesta llista?\n",
    "\n",
    "rang = max(llista) - min(llista)\n",
    "print(rang)"
   ]
  },
  {
   "cell_type": "markdown",
   "id": "baacdf7f",
   "metadata": {},
   "source": [
    "Exercici 4"
   ]
  },
  {
   "cell_type": "code",
   "execution_count": 1,
   "id": "575c31fb",
   "metadata": {},
   "outputs": [
    {
     "name": "stdout",
     "output_type": "stream",
     "text": [
      "{'Pomes': {'Qty': 5, '€': 0.42}, 'Peres': {'Qty': 3, '€': 0.66}}\n"
     ]
    }
   ],
   "source": [
    "compra = { \"Pomes\" : {\"Qty\": 5, \"€\": 0.42}, \"Peres\" : {\"Qty\": 3, \"€\": 0.66} }\n",
    "print(compra)"
   ]
  },
  {
   "cell_type": "code",
   "execution_count": 2,
   "id": "b4403060",
   "metadata": {},
   "outputs": [
    {
     "name": "stdout",
     "output_type": "stream",
     "text": [
      "{'Pomes': {'Qty': 5, '€': 0.42}, 'Peres': {'Qty': 3, '€': 0.66}, 'Mandarines': {'Qty': 12, '€': 0.99}}\n"
     ]
    }
   ],
   "source": [
    "# afegeix alguna fruita mes\n",
    "\n",
    "compra.update({\"Mandarines\":{\"Qty\":12, \"€\":0.99}})\n",
    "print(compra)"
   ]
  },
  {
   "cell_type": "code",
   "execution_count": 3,
   "id": "b0e63bfb",
   "metadata": {},
   "outputs": [
    {
     "name": "stdout",
     "output_type": "stream",
     "text": [
      "{'Qty': 3, '€': 0.66}\n",
      "3\n",
      "0.66\n",
      "preu total peres: 1.98 €\n"
     ]
    }
   ],
   "source": [
    "# quant han costat les peres en total?\n",
    "\n",
    "Peres = (compra.get('Peres'))\n",
    "print(Peres)\n",
    "\n",
    "Qty = (Peres.get('Qty'))\n",
    "print(Qty)\n",
    "\n",
    "Price = (Peres.get('€'))\n",
    "print(Price)\n",
    "\n",
    "TOTAL = Qty * Price\n",
    "print('preu total peres:', TOTAL, '€')\n"
   ]
  },
  {
   "cell_type": "code",
   "execution_count": 4,
   "id": "e9f37ae5",
   "metadata": {},
   "outputs": [
    {
     "name": "stdout",
     "output_type": "stream",
     "text": [
      "total fruites comprades: 3\n"
     ]
    }
   ],
   "source": [
    "# quantes fruites hem comprat en total?\n",
    "\n",
    "print('total fruites comprades:', len(compra.keys()))\n"
   ]
  },
  {
   "cell_type": "code",
   "execution_count": 5,
   "id": "f9656384",
   "metadata": {},
   "outputs": [
    {
     "name": "stdout",
     "output_type": "stream",
     "text": [
      "OrderedDict([('Mandarines', {'Qty': 12, '€': 0.99}), ('Peres', {'Qty': 3, '€': 0.66}), ('Pomes', {'Qty': 5, '€': 0.42})])\n"
     ]
    }
   ],
   "source": [
    "# quina és la fruita mes cara?\n",
    "\n",
    "# Ordenació per '€' de major a menor\n",
    "\n",
    "from collections import OrderedDict\n",
    "Fruites = OrderedDict(sorted(compra.items(), key=lambda x: x[1]['€'], reverse=True))\n",
    "print(Fruites)\n"
   ]
  },
  {
   "cell_type": "code",
   "execution_count": null,
   "id": "685b29a9",
   "metadata": {},
   "outputs": [],
   "source": []
  }
 ],
 "metadata": {
  "kernelspec": {
   "display_name": "Python 3 (ipykernel)",
   "language": "python",
   "name": "python3"
  },
  "language_info": {
   "codemirror_mode": {
    "name": "ipython",
    "version": 3
   },
   "file_extension": ".py",
   "mimetype": "text/x-python",
   "name": "python",
   "nbconvert_exporter": "python",
   "pygments_lexer": "ipython3",
   "version": "3.9.12"
  },
  "toc": {
   "base_numbering": 1,
   "nav_menu": {},
   "number_sections": true,
   "sideBar": true,
   "skip_h1_title": false,
   "title_cell": "Table of Contents",
   "title_sidebar": "Contents",
   "toc_cell": false,
   "toc_position": {},
   "toc_section_display": true,
   "toc_window_display": false
  }
 },
 "nbformat": 4,
 "nbformat_minor": 5
}
